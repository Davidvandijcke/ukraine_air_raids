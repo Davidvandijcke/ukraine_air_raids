{
 "cells": [
  {
   "cell_type": "markdown",
   "id": "e747abfe",
   "metadata": {},
   "source": [
    "### Calculate frontline"
   ]
  },
  {
   "cell_type": "code",
   "execution_count": 308,
   "id": "53792e6d",
   "metadata": {},
   "outputs": [],
   "source": [
    "# https://github.com/zhukovyuri/VIINA/blob/master/Data/events_latest.zip\n",
    "# pull github link above\n",
    "import requests\n",
    "import zipfile\n",
    "import io\n",
    "r = requests.get('https://github.com/zhukovyuri/VIINA/blob/master/Data/control_latest.zip?raw=true')\n",
    "z = zipfile.ZipFile(io.BytesIO(r.content))\n",
    "z.extractall()\n",
    "\n",
    "# load events_latest.csv\n",
    "import pandas as pd\n",
    "df = pd.read_csv(os.path.join(\"control_latest.csv\"))"
   ]
  },
  {
   "cell_type": "code",
   "execution_count": 309,
   "id": "ab364920",
   "metadata": {},
   "outputs": [],
   "source": [
    "gdf = gpd.GeoDataFrame(df, geometry=gpd.points_from_xy(df.longitude, df.latitude))\n",
    "gdf = gdf.set_crs(\"epsg:4326\")\n",
    "gdf = gdf.to_crs(\"epsg:32636\")\n",
    "gdf.replace(\"CONTESTED\", \"RU\", inplace = True)\n",
    "gdf['geometry'] = gdf.buffer(5000)\n",
    "gdf = gdf.to_crs(\"epsg:4326\")"
   ]
  },
  {
   "cell_type": "code",
   "execution_count": null,
   "id": "bffb72b5",
   "metadata": {},
   "outputs": [],
   "source": [
    "from joblib import Parallel, delayed\n",
    "\n",
    "\n",
    "def getDistinctAreas(gdf, col):\n",
    "    #gdf['geometry'] = gdf.buffer(5000) # 5 km radius around locality\n",
    "    gdf = gdf.dissolve(by = col).reset_index()\n",
    "    s = gdf['geometry'][0].intersection(gdf['geometry'][1]) # intersect russian and ukrainian radii\n",
    "    return s\n",
    "\n",
    "cols = [col for col in gdf.columns if \"ctr\" in col]\n",
    "boundaries = pd.DataFrame(columns = ['date', 'geometry'])\n",
    "\n",
    "def getBoundary(col):\n",
    "    tempdf = gdf[['geometry', col]]\n",
    "    date = col[4:8] + \"-\" + col[8:10] + \"-\" + col[10:12]\n",
    "    temp = getDistinctAreas(tempdf, col)\n",
    "    tempdf = pd.DataFrame({\"date\" : [date], \"geometry\" : [temp]})\n",
    "    return tempdf\n",
    "\n",
    "results = Parallel(n_jobs=4, verbose = 10)(delayed(getBoundary)(col) for col in cols)\n",
    "    "
   ]
  },
  {
   "cell_type": "code",
   "execution_count": 317,
   "id": "ba6ea862",
   "metadata": {},
   "outputs": [],
   "source": [
    "test = pd.concat(results)\n",
    "\n",
    "test = gpd.GeoDataFrame(test, geometry = test.geometry)"
   ]
  },
  {
   "cell_type": "code",
   "execution_count": 318,
   "id": "da1c7526",
   "metadata": {},
   "outputs": [],
   "source": [
    "test = test.to_wkt()\n",
    "test.to_csv(os.path.join(main_dir, \"data\", \"final\", \"frontline.csv\"), index = False)"
   ]
  },
  {
   "cell_type": "code",
   "execution_count": 319,
   "id": "70bccc8e",
   "metadata": {},
   "outputs": [],
   "source": [
    "# upload frontline.shp to s3\n",
    "import boto3\n",
    "AWS_key = ''\n",
    "AWS_secret = ''\n",
    "s3=boto3.resource(  # for writing data\n",
    "    's3',\n",
    "    aws_access_key_id=AWS_key,\n",
    "    aws_secret_access_key=AWS_secret,\n",
    ")\n",
    "s3.meta.client.upload_file(os.path.join(main_dir, \"data\", \"final\", \"frontline.csv\"), 'ipsos-dvd', 'ukr/data/frontline.csv')"
   ]
  },
  {
   "cell_type": "markdown",
   "id": "3d5a1880",
   "metadata": {},
   "source": [
    "#### Calculate SD of distance to front"
   ]
  },
  {
   "cell_type": "code",
   "execution_count": 17,
   "id": "32b84090",
   "metadata": {},
   "outputs": [],
   "source": [
    "from pyspark import SparkContext\n",
    "from pyspark.sql import SparkSession, SQLContext\n",
    "from pyspark.sql.window import Window\n",
    "from pyspark.sql.types import (\n",
    "    StructType,\n",
    "    StructField,\n",
    "    StringType,\n",
    "    IntegerType,\n",
    "    DoubleType,\n",
    "    TimestampType,\n",
    ")\n",
    "from pyspark.sql.functions import (\n",
    "    from_utc_timestamp, to_utc_timestamp, dayofyear, weekofyear, month, year, when, col, udf, row_number,\n",
    "    lead, last, lag, avg, max, percentile_approx, min, unix_timestamp,\n",
    "    monotonically_increasing_id, pandas_udf, PandasUDFType, asc, lit, count, concat_ws,\n",
    "    countDistinct, split, regexp_replace, explode, dayofweek, hour, date_trunc, struct, expr\n",
    ")\n",
    "\n",
    "\n",
    "spark = SparkSession.builder.appName(\"front\").getOrCreate()\n",
    "front = spark.read.csv(os.path.join(main_dir, \"data\", \"final\", \"distance_to_front\"), header = True)"
   ]
  },
  {
   "cell_type": "code",
   "execution_count": 18,
   "id": "f79df115",
   "metadata": {},
   "outputs": [
    {
     "name": "stderr",
     "output_type": "stream",
     "text": [
      "                                                                                \r"
     ]
    }
   ],
   "source": [
    "front = front.select('distance_to_front').toPandas()"
   ]
  },
  {
   "cell_type": "code",
   "execution_count": 23,
   "id": "049ba076",
   "metadata": {},
   "outputs": [
    {
     "data": {
      "text/plain": [
       "count    3.760947e+06\n",
       "mean     2.698047e+02\n",
       "std      2.765611e+02\n",
       "min      0.000000e+00\n",
       "25%      4.258613e+01\n",
       "50%      1.572292e+02\n",
       "75%      4.362111e+02\n",
       "max      1.120770e+03\n",
       "Name: distance_to_front, dtype: float64"
      ]
     },
     "execution_count": 23,
     "metadata": {},
     "output_type": "execute_result"
    }
   ],
   "source": [
    "front['distance_to_front'].describe()"
   ]
  },
  {
   "cell_type": "code",
   "execution_count": 21,
   "id": "a8768407",
   "metadata": {},
   "outputs": [],
   "source": [
    "front['distance_to_front'] = front['distance_to_front'].astype(float) * 111139 / 1000"
   ]
  },
  {
   "cell_type": "code",
   "execution_count": 24,
   "id": "3dbf0abb",
   "metadata": {},
   "outputs": [
    {
     "name": "stdout",
     "output_type": "stream",
     "text": [
      "276.5610572377576\n",
      "269.8046590875043\n"
     ]
    }
   ],
   "source": [
    "#print standard deviation\n",
    "print(front.distance_to_front.std())\n",
    "print(front.distance_to_front.mean())\n"
   ]
  }
 ],
 "metadata": {
  "kernelspec": {
   "display_name": "Python 3.9.13 ('base')",
   "language": "python",
   "name": "python3"
  },
  "language_info": {
   "codemirror_mode": {
    "name": "ipython",
    "version": 3
   },
   "file_extension": ".py",
   "mimetype": "text/x-python",
   "name": "python",
   "nbconvert_exporter": "python",
   "pygments_lexer": "ipython3",
   "version": "3.9.15"
  },
  "vscode": {
   "interpreter": {
    "hash": "89a711df21b79e0881e4e85370e41e20fee60c0025d1889026abc2b6b2d458bb"
   }
  }
 },
 "nbformat": 4,
 "nbformat_minor": 5
}
