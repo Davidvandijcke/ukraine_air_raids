{
 "cells": [
  {
   "cell_type": "code",
   "execution_count": 42,
   "id": "fef83676-85a2-4ecd-912d-25a590825c85",
   "metadata": {
    "execution": {
     "iopub.execute_input": "2023-02-08T17:49:15.672095Z",
     "iopub.status.busy": "2023-02-08T17:49:15.671862Z",
     "iopub.status.idle": "2023-02-08T17:49:15.926510Z",
     "shell.execute_reply": "2023-02-08T17:49:15.925977Z",
     "shell.execute_reply.started": "2023-02-08T17:49:15.672071Z"
    },
    "tags": []
   },
   "outputs": [
    {
     "data": {
      "application/vnd.jupyter.widget-view+json": {
       "model_id": "dc2e892a37a846cfb9e8af2c4ede951d",
       "version_major": 2,
       "version_minor": 0
      },
      "text/plain": [
       "VBox()"
      ]
     },
     "metadata": {},
     "output_type": "display_data"
    },
    {
     "data": {
      "application/vnd.jupyter.widget-view+json": {
       "model_id": "",
       "version_major": 2,
       "version_minor": 0
      },
      "text/plain": [
       "FloatProgress(value=0.0, bar_style='info', description='Progress:', layout=Layout(height='25px', width='50%'),…"
      ]
     },
     "metadata": {},
     "output_type": "display_data"
    }
   ],
   "source": [
    "\"\"\" Trip Length and Speed Calculation\n",
    "\n",
    "aws emr add-steps --cluster-id <Your EMR cluster id> --steps Type=spark,Name=TestJob,Args=[--deploy-mode,cluster,--master,yarn,--conf,spark.yarn.submit.waitAppCompletion=true,s3a://your-source-bucket/code/pythonjob.py,s3a://your-source-bucket/data/data.csv,s3a://your-destination-bucket/test-output/],ActionOnFailure=CONTINUE\n",
    "\"\"\"\n",
    "\n",
    "from collections import namedtuple\n",
    "import logging\n",
    "import sys\n",
    "\n",
    "\n",
    "from geopy.distance import great_circle\n",
    "import pandas as pd\n",
    "import geopandas as gpd\n",
    "import numpy as np\n",
    "\n",
    "from datetime import timedelta, date, datetime\n",
    "from statistics import *\n",
    "from shapely.geometry import MultiPolygon, Polygon\n",
    "from shapely import wkt\n",
    "\n",
    "\n",
    "from pyspark import SparkContext\n",
    "from pyspark.sql import SQLContext, SparkSession\n",
    "from pyspark.sql.window import Window\n",
    "from pyspark.sql.types import (\n",
    "    StructType,\n",
    "    LongType,\n",
    "    StructField,\n",
    "    IntegerType,\n",
    "    StringType,\n",
    "    DoubleType,\n",
    "    TimestampType,\n",
    "    ArrayType\n",
    ")\n",
    "import pyspark.sql.functions as F\n",
    "from math import *\n",
    "import time\n",
    "import json\n",
    "\n",
    "import matplotlib.pyplot as plt\n",
    "%matplot inline\n",
    "\n",
    "\n",
    "spark = SparkSession.builder.appName(f\"trips_veraset\").getOrCreate()\n",
    "spark.sparkContext.addPyFile(\"s3://ipsos-dvd/scripts/utils.py\")\n",
    "from utils import *\n",
    "\n",
    "\n",
    "data_dir = \"s3://ipsos-dvd/ukr/data/\"\n",
    "\n",
    "\n",
    "\"\"\" Spatial join in pandas_udf \"\"\"\n",
    "@pandas_udf(StringType())\n",
    "def sjoin(x,y):\n",
    "\n",
    "    crs = 'epsg:2587'\n",
    "    ids = pd.DataFrame.from_records([json.loads(c) for c in gdf_broadcast.value])\n",
    "    polygons = [wkt.loads(w) for w in ids['geometry']]\n",
    "    gdf_communes = gpd.GeoDataFrame(ids, geometry=polygons, crs='epsg:4326').to_crs(crs)\n",
    "    geometry = gpd.points_from_xy(x, y)\n",
    "    gdf_traces = gpd.GeoDataFrame(data = [[x] for x in range(len(x))], geometry=geometry, columns=['idd'], crs='epsg:4326').to_crs(crs)\n",
    "    settlement = gpd.sjoin(gdf_traces,gdf_communes,how='left',predicate='within')#.fillna(np.nan)\n",
    "    if settlement.shape[0] > 0:\n",
    "        return settlement.groupby('idd').agg({join_column_name:lambda x: list(x)}).reset_index().sort_values(by='idd').loc[:,join_column_name].astype('str')# if pd.isnull(sum(x)) == False else np.nan}).reset_index().sort_values(by='id').loc[\n",
    "    else:\n",
    "        return \"\"\n",
    "    \n",
    "\n",
    "# function to calculate distance\n",
    "def haversine(lat1, lon1, lat2, lon2):\n",
    "    if lat1 == None or lat2 == None:\n",
    "        return None\n",
    "    else:\n",
    "        return 2*6378000*sqrt(pow(sin((lat2-lat1)/2),2) + cos(lat1)*cos(lat2)*pow(sin((lon2-lon1)/2),2)) # result in meters\n",
    "dist_udf=udf(haversine, DoubleType())\n",
    "\n",
    "\"\"\" Run a single event study \"\"\"\n",
    "def eventStudies(temp, x_columns, schema, group_column = \"id\", y_column = 'kak'):\n",
    "    @pandas_udf(schema, PandasUDFType.GROUPED_MAP)\n",
    "    # Input/output are both a pandas.DataFrame\n",
    "    def ols(pdf):\n",
    "        import statsmodels.api as sm\n",
    "        group_key = pdf[group_column].iloc[0]\n",
    "        y = pdf[y_column]\n",
    "        X = pdf[x_columns]\n",
    "        X = sm.add_constant(X)\n",
    "        model = sm.OLS(y.astype(float), X.astype(float), missing = \"drop\").fit()\n",
    "\n",
    "        \n",
    "        return pd.DataFrame([[group_key] + [model.params[i] for i in   x_columns]], columns=[group_column] + x_columns)\n",
    "\n",
    "    beta = temp.groupBy(group_column).apply(ols)\n",
    "\n",
    "    return beta.toPandas()\n",
    "\n",
    "\"\"\" Function to estimate event studies in parallel \"\"\"\n",
    "def runEventStudies(fn, x_columns = None):\n",
    "    # estimate event studies in a loop\n",
    "    y_column = 'kak'\n",
    "    group_column = \"id\"\n",
    "    \n",
    "    if x_columns is None:\n",
    "        x_columns = [col for col in air.columns if \"TYPE\" in col] # dummies\n",
    "\n",
    "    for sample in [\"\"]:\n",
    "        for outcome in [\"distance_sum\"]: # , \"kmh_avg\", \"distance_point\", \"altitude_avg\"]:\n",
    "            for lg  in [\"\", \"log\"]:\n",
    "                    # take logs of outcome\n",
    "                    #temp = air.withColumn('kak', when(col(\"distance_point\").isNotNull(), F.log(1+col('distance_point'))).otherwise(lit(None)))\n",
    "                    temp = air.filter(col(outcome).isNotNull())\n",
    "\n",
    "                    if outcome == \"distance_point\":\n",
    "                        temp = temp.filter(col(\"distance_point\") != 0)\n",
    "\n",
    "                    if lg:\n",
    "                        temp = temp.withColumn('kak',  F.asinh(col(outcome)))\n",
    "                    else:\n",
    "                        temp = temp.withColumn('kak',  col(outcome))\n",
    "\n",
    "                    if sample == \"_sample\": # filter devices that appeared in all three periods\n",
    "                        temp = temp.filter(col(\"count\") == 3)\n",
    "\n",
    "                    # df has four columns: id, y, x1, x2\n",
    "                    fields = [StructField(group_column, StringType(), False)] + [StructField(col, DoubleType(), False) for col in x_columns]\n",
    "                    schema = StructType(fields)\n",
    "\n",
    "                    coeffs = eventStudies(temp, x_columns, schema)\n",
    "\n",
    "\n",
    "                    out = data_dir + fn + \"/\" +  \"coeffs_\" + outcome + \"_\" + lg + sample + \".csv\"\n",
    "                    coeffs.to_csv(out, index = False)"
   ]
  },
  {
   "cell_type": "markdown",
   "id": "e69eb165-19c0-40de-9fa6-45f168370ecb",
   "metadata": {},
   "source": [
    "## Wrangle data into caid-by-minute panel format with start and end date of raids for corresponding minutes"
   ]
  },
  {
   "cell_type": "code",
   "execution_count": 2,
   "id": "7c30d7a7-0648-4b65-a8f8-54a2401b5c5d",
   "metadata": {
    "execution": {
     "iopub.execute_input": "2022-11-23T04:59:49.220284Z",
     "iopub.status.busy": "2022-11-23T04:59:49.220020Z",
     "iopub.status.idle": "2022-11-23T05:13:48.603307Z",
     "shell.execute_reply": "2022-11-23T05:13:48.602220Z",
     "shell.execute_reply.started": "2022-11-23T04:59:49.220253Z"
    },
    "tags": []
   },
   "outputs": [
    {
     "data": {
      "application/vnd.jupyter.widget-view+json": {
       "model_id": "25c2559768fe45bd96f084a926509dcb",
       "version_major": 2,
       "version_minor": 0
      },
      "text/plain": [
       "VBox()"
      ]
     },
     "metadata": {},
     "output_type": "display_data"
    },
    {
     "data": {
      "application/vnd.jupyter.widget-view+json": {
       "model_id": "",
       "version_major": 2,
       "version_minor": 0
      },
      "text/plain": [
       "FloatProgress(value=0.0, bar_style='info', description='Progress:', layout=Layout(height='25px', width='50%'),…"
      ]
     },
     "metadata": {},
     "output_type": "display_data"
    }
   ],
   "source": [
    "# broadcast air raids shapefile\n",
    "df_gp = gpd.read_file(data_dir + \"air_geos\")\n",
    "df_gp = df_gp[df_gp.geometry != None]\n",
    "df_gp = df_gp.set_crs(crs = \"epsg:4326\")\n",
    "df_gp = df_gp.to_wkt()\n",
    "gp_spark = spark.createDataFrame(df_gp)\n",
    "df_gp = gp_spark.toJSON().collect()\n",
    "gdf_broadcast = spark.sparkContext.broadcast(df_gp)\n",
    "\n",
    "air = spark.read.csv(data_dir + \"air_raid_alerts.csv\", header = True).select(\"start_dt\", \"end_dt\", \"region_english\")\n",
    "\n",
    "\n",
    "dist_udf=udf(haversine, DoubleType())\n",
    "\n",
    "# window to calculate device-level speed and distance\n",
    "w1 = Window.partitionBy('caid').orderBy('utc_timestamp')\n",
    "w = Window.partitionBy('caid', 'minute')\n",
    "\n",
    "# set schemas for efficiency\n",
    "essential_fields = [\n",
    "        StructField(\"utc_timestamp\",LongType(),True),\n",
    "        StructField(\"caid\",StringType(),True),\n",
    "        StructField(\"latitude\",DoubleType(),True),\n",
    "        StructField(\"longitude\",DoubleType(),True),\n",
    "        StructField(\"altitude\",DoubleType(),True)\n",
    "]\n",
    "raw_schema = StructType(\n",
    "    essential_fields + [\n",
    "        StructField(\"id_type\",StringType(),False),\n",
    "        StructField(\"geo_hash\",StringType(),False),\n",
    "        StructField(\"horizontal_accuracy\",DoubleType(),False),\n",
    "        StructField(\"ip_address\",StringType(),False),\n",
    "        #StructField(\"altitude\",DoubleType(),False),\n",
    "        StructField(\"iso_country_code\",StringType(),False)]\n",
    ")\n",
    "\n",
    "# load data, calculate columns of interest, and aggregate to minute level\n",
    "paths = [\"s3://ipsos-dvd/ukr/data/pings_2022-01-01_2022-09-30/\"]\n",
    "\n",
    "join_column_name = \"region_eng\" # for the sjoin udf\n",
    "\n",
    "pings = (spark.read.schema(StructType(essential_fields)).parquet(*paths)#.limit(1000000)\n",
    "        .select(\"caid\", \"latitude\", \"longitude\", \"utc_timestamp\", \"altitude\",)\n",
    "        # .filter(col(\"horizontal_accuracy\") <= 150) # 150m or less horizontal accuracy (similar to safegraph)\n",
    "        # .drop(col('horizontal_accuracy'))\n",
    "        #.filter(col('longitude').between(east,west) & col('latitude').between(north, south))\n",
    "        .withColumn('date', F.from_utc_timestamp(col('utc_timestamp').cast(dataType=TimestampType()), 'GMT+3')) # date column\n",
    "        .withColumn('day', F.to_date(col(\"date\")))\n",
    "        .withColumn('minute', F.date_trunc(\"minute\", col(\"date\"))) # minute column\n",
    "        .drop(\"date\")\n",
    "        # calculate speed and distance\n",
    "        .withColumn('latitude_lag', lag(col('latitude')).over(w1)).withColumn('longitude_lag', lag(col('longitude')).over(w1)).fillna(0)\n",
    "        .withColumn('distance', when(col('latitude_lag') != lit(0), dist_udf(pi * col('latitude_lag') / 180, pi * col('longitude_lag') / 180, \n",
    "                                                                            pi * col('latitude') / 180, pi * col('longitude') / 180)).otherwise(lit(None)))\n",
    "        .withColumn('time_diff', (col('utc_timestamp') - lag('utc_timestamp',1).over(w1)))\n",
    "        .withColumn('kmh', 3.6 * col('distance') / col('time_diff')) # 1 m/s is 3.6 km/h\n",
    "        .filter(col('kmh') <= 300) # filter jumpy pings\n",
    "        # group by device-minute\n",
    "        .groupBy('caid', 'minute', 'day')\n",
    "        .agg(F.avg('kmh').alias('kmh_avg'),\n",
    "            F.avg('distance').alias('distance_avg'),\n",
    "            F.sum('distance').alias('distance_sum'),\n",
    "            F.avg('longitude').alias('longitude_center'),\n",
    "            F.avg('latitude').alias('latitude_center'),\n",
    "            F.avg(\"altitude\").alias(\"altitude_avg\")\n",
    "        )\n",
    "        # spatial match with shapefile of air raids\n",
    "        # note: some pings will be matched to multiple regions as some of the air raid regions are nested\n",
    "        # it doesn't really matter however, as we can just say the ping is exposed to a raid whenever any of the regions it is in have one\n",
    "        .withColumn(\"air_geo\", sjoin(F.col(\"longitude_center\"),F.col(\"latitude_center\")))\n",
    "        .withColumn('air_geo',  F.explode(F.split(regexp_replace(col(\"air_geo\"), \"[\\[\\],\\']\", \"\").alias('replaced'), ','))) # expand list of matched regions\n",
    "        .filter(col(\"air_geo\") != \"nan\")\n",
    "        .join(air, col(\"air_geo\") == air.region_english, \"left\").withColumn(\"alert\", when(col(\"minute\").between(col(\"start_dt\"), col(\"end_dt\")), 1).otherwise(0))\n",
    "        .withColumn(\"start_raid\", when(col(\"alert\") == 1, col(\"start_dt\")).otherwise(\"2025-01-01 00:00:00\"))\n",
    "        .withColumn(\"start_raid_min\", F.min(\"start_raid\").over(w))\n",
    "        .withColumn(\"end_raid\", when(col(\"alert\") == 1, col(\"end_dt\")).otherwise(\"1970-01-01 00:00:00\"))\n",
    "        .withColumn(\"end_raid_max\", F.max(\"end_raid\").over(w))\n",
    "        .drop(\"start_dt\", \"end_dt\", \"start_raid\", \"end_raid\").dropDuplicates([\"caid\",\"minute\"])\n",
    "        .withColumn(\"start_raid_min\", when(col(\"start_raid_min\") == \"2025-01-01 00:00:00\", 'NA').otherwise(col(\"start_raid_min\")))\n",
    "        .withColumn(\"end_raid_max\", when(col(\"end_raid_max\") == \"1970-01-01 00:00:00\", 'NA').otherwise(col(\"end_raid_max\")))\n",
    "        .drop(\"air_geo\")\n",
    "        )\n",
    "# pings.show()\n",
    "pings.write.option(\"header\", True).mode(\"overwrite\").partitionBy(\"day\").parquet(data_dir + \"pings_minute_panel_v5\")"
   ]
  },
  {
   "cell_type": "code",
   "execution_count": 2,
   "id": "df8c14d9-58ce-495a-97c8-6a4b570a8f47",
   "metadata": {
    "execution": {
     "iopub.execute_input": "2023-02-08T16:09:20.658592Z",
     "iopub.status.busy": "2023-02-08T16:09:20.658359Z",
     "iopub.status.idle": "2023-02-08T16:09:32.001469Z",
     "shell.execute_reply": "2023-02-08T16:09:32.000818Z",
     "shell.execute_reply.started": "2023-02-08T16:09:20.658569Z"
    },
    "tags": []
   },
   "outputs": [
    {
     "data": {
      "application/vnd.jupyter.widget-view+json": {
       "model_id": "01ba3409cc904cc7948b12828b875ca9",
       "version_major": 2,
       "version_minor": 0
      },
      "text/plain": [
       "VBox()"
      ]
     },
     "metadata": {},
     "output_type": "display_data"
    },
    {
     "data": {
      "application/vnd.jupyter.widget-view+json": {
       "model_id": "",
       "version_major": 2,
       "version_minor": 0
      },
      "text/plain": [
       "FloatProgress(value=0.0, bar_style='info', description='Progress:', layout=Layout(height='25px', width='50%'),…"
      ]
     },
     "metadata": {},
     "output_type": "display_data"
    }
   ],
   "source": [
    "# intersect with cities\n",
    "paths = [data_dir + fn for fn  in [\"pings_minute_panel_v5\"]]\n",
    "air_raw = spark.read.parquet(*paths)"
   ]
  },
  {
   "cell_type": "code",
   "execution_count": 14,
   "id": "bc6ebd7d-59e9-4a40-b1e0-45a1d8a0445d",
   "metadata": {
    "execution": {
     "iopub.execute_input": "2023-02-06T15:45:32.119434Z",
     "iopub.status.busy": "2023-02-06T15:45:32.119213Z",
     "iopub.status.idle": "2023-02-06T15:45:45.429417Z",
     "shell.execute_reply": "2023-02-06T15:45:45.428918Z",
     "shell.execute_reply.started": "2023-02-06T15:45:32.119411Z"
    },
    "tags": []
   },
   "outputs": [
    {
     "data": {
      "application/vnd.jupyter.widget-view+json": {
       "model_id": "2800ddee7c704bf9abaa4baad0ddbd3b",
       "version_major": 2,
       "version_minor": 0
      },
      "text/plain": [
       "VBox()"
      ]
     },
     "metadata": {},
     "output_type": "display_data"
    },
    {
     "data": {
      "application/vnd.jupyter.widget-view+json": {
       "model_id": "",
       "version_major": 2,
       "version_minor": 0
      },
      "text/plain": [
       "FloatProgress(value=0.0, bar_style='info', description='Progress:', layout=Layout(height='25px', width='50%'),…"
      ]
     },
     "metadata": {},
     "output_type": "display_data"
    }
   ],
   "source": [
    "# broadcast cities shapefile\n",
    "join_column_name = \"city\"\n",
    "df_gp = gpd.read_file(data_dir + \"cities\")\n",
    "df_gp = df_gp[df_gp.geometry != None]\n",
    "df_gp = df_gp.set_crs(crs = \"epsg:4326\")\n",
    "df_gp = df_gp.to_wkt()\n",
    "gp_spark = spark.createDataFrame(df_gp)\n",
    "df_gp = gp_spark.toJSON().collect()\n",
    "gdf_broadcast = spark.sparkContext.broadcast(df_gp)"
   ]
  },
  {
   "cell_type": "code",
   "execution_count": 15,
   "id": "66bab3e5-0144-44c5-b1f8-7d685a1de273",
   "metadata": {
    "execution": {
     "iopub.execute_input": "2023-02-06T15:45:45.430432Z",
     "iopub.status.busy": "2023-02-06T15:45:45.430266Z",
     "iopub.status.idle": "2023-02-06T15:45:45.680415Z",
     "shell.execute_reply": "2023-02-06T15:45:45.679924Z",
     "shell.execute_reply.started": "2023-02-06T15:45:45.430412Z"
    },
    "tags": []
   },
   "outputs": [
    {
     "data": {
      "application/vnd.jupyter.widget-view+json": {
       "model_id": "f68013e5f63d40b0a40493b23a45acfa",
       "version_major": 2,
       "version_minor": 0
      },
      "text/plain": [
       "VBox()"
      ]
     },
     "metadata": {},
     "output_type": "display_data"
    },
    {
     "data": {
      "application/vnd.jupyter.widget-view+json": {
       "model_id": "",
       "version_major": 2,
       "version_minor": 0
      },
      "text/plain": [
       "FloatProgress(value=0.0, bar_style='info', description='Progress:', layout=Layout(height='25px', width='50%'),…"
      ]
     },
     "metadata": {},
     "output_type": "display_data"
    }
   ],
   "source": [
    "air_raw = air_raw.withColumn(\"city\", sjoin(F.col(\"longitude_center\"),F.col(\"latitude_center\")))"
   ]
  },
  {
   "cell_type": "code",
   "execution_count": null,
   "id": "f5599130-4063-49f3-83d7-b2119db86bc1",
   "metadata": {
    "execution": {
     "iopub.execute_input": "2023-02-06T15:53:13.686293Z",
     "iopub.status.busy": "2023-02-06T15:53:13.686060Z",
     "iopub.status.idle": "2023-02-06T16:09:41.986428Z"
    },
    "tags": []
   },
   "outputs": [
    {
     "data": {
      "application/vnd.jupyter.widget-view+json": {
       "model_id": "99ddc8a7cda0451b8118598932552cf1",
       "version_major": 2,
       "version_minor": 0
      },
      "text/plain": [
       "VBox()"
      ]
     },
     "metadata": {},
     "output_type": "display_data"
    },
    {
     "data": {
      "application/vnd.jupyter.widget-view+json": {
       "model_id": "",
       "version_major": 2,
       "version_minor": 0
      },
      "text/plain": [
       "FloatProgress(value=0.0, bar_style='info', description='Progress:', layout=Layout(height='25px', width='50%'),…"
      ]
     },
     "metadata": {},
     "output_type": "display_data"
    }
   ],
   "source": [
    "air_raw = (air_raw.withColumn('city',  F.explode(F.split(regexp_replace(col(\"city\"), \"[\\[\\],\\']\", \"\").alias('replaced'), ','))) # expand list of matched regions\n",
    "                .withColumn(\"rural\", F.when(col(\"city\") == \"nan\", 1).otherwise(0)))\n",
    "air_raw.write.option(\"header\", True).mode(\"overwrite\").partitionBy(\"day\").parquet(data_dir + \"pings_minute_panel_v5_cities\")\n",
    "           "
   ]
  },
  {
   "cell_type": "markdown",
   "id": "6f88962c-56d6-4030-a7d5-c77c8b5d6338",
   "metadata": {},
   "source": [
    "## Run event study regressions for each alert with enough pings (~2K) in pandas_udf"
   ]
  },
  {
   "cell_type": "code",
   "execution_count": 4,
   "id": "05e016e6-b36f-4658-adbc-c298bf7482dd",
   "metadata": {
    "execution": {
     "iopub.execute_input": "2023-02-08T16:10:47.909442Z",
     "iopub.status.busy": "2023-02-08T16:10:47.909205Z",
     "iopub.status.idle": "2023-02-08T16:10:48.169967Z",
     "shell.execute_reply": "2023-02-08T16:10:48.169392Z",
     "shell.execute_reply.started": "2023-02-08T16:10:47.909417Z"
    },
    "tags": []
   },
   "outputs": [
    {
     "data": {
      "application/vnd.jupyter.widget-view+json": {
       "model_id": "58bd155a9b404f8a86fcc791d7c0e63b",
       "version_major": 2,
       "version_minor": 0
      },
      "text/plain": [
       "VBox()"
      ]
     },
     "metadata": {},
     "output_type": "display_data"
    },
    {
     "data": {
      "application/vnd.jupyter.widget-view+json": {
       "model_id": "",
       "version_major": 2,
       "version_minor": 0
      },
      "text/plain": [
       "FloatProgress(value=0.0, bar_style='info', description='Progress:', layout=Layout(height='25px', width='50%'),…"
      ]
     },
     "metadata": {},
     "output_type": "display_data"
    }
   ],
   "source": [
    "def prepData(hours = 0.5, extend = False):\n",
    "\n",
    "    paths = [data_dir + fn for fn  in [\"pings_minute_panel_v5_cities\"]]\n",
    "    air_raw = spark.read.parquet(*paths)\n",
    "\n",
    "    #print(air_raw.count())\n",
    "    #filter devices that cover large distance in a day to account for refugee flows\n",
    "    temp = (air_raw.groupBy('caid', 'day').agg(F.sum(col('distance_sum')).alias('distance_sum'))\n",
    "            .filter(~((col('distance_sum') >0) & (col('distance_sum') < 100000) )) # devices have to move at least once, but not more than 100 km\n",
    "           )\n",
    "    air_raw = air_raw.join(temp, on = [\"caid\", \"day\"], how = \"leftanti\")\n",
    "\n",
    "\n",
    "    #print(air_raw.count())\n",
    "    air = air_raw.alias('air')\n",
    "\n",
    "    # code pre-period\n",
    "    w1 = Window.partitionBy(\"caid\").orderBy(F.desc(\"minute\"))\n",
    "\n",
    "\n",
    "\n",
    "    #hours = 0.5\n",
    "\n",
    "    air = (air.filter(col(\"region_english\").isNotNull())\n",
    "             .withColumn(\"start_raid_min\", when(col(\"start_raid_min\") == \"NA\", lit(None)).otherwise(F.date_trunc(\"minute\",col(\"start_raid_min\")))) # encode null values and truncate air raid start to minute\n",
    "             .withColumn(\"start_raid_next\", last(col('start_raid_min'), ignorenulls = True).over(w1)) # take the next (in terms of time) non-na value of start_raid to get the start of the next raid\n",
    "             .withColumn(\"time_to_raid\", col(\"minute\").cast(\"long\") - col(\"start_raid_next\").cast(TimestampType()).cast(\"long\")) # compute seconds to time raid, will be in multiples of 60 bc of truncation above\n",
    "             .filter(col(\"time_to_raid\").isNotNull())\n",
    "             .withColumn(\"id\", F.concat(col(\"start_raid_next\"), col(\"region_english\")))\n",
    "          )\n",
    "    \n",
    "    if extend:\n",
    "        # only retain alerts longer than 60 minutes\n",
    "        alerts = pd.read_csv(data_dir + \"air_raid_alerts.csv\")\n",
    "        alerts['start_dt'] = pd.to_datetime(alerts['start_dt'])\n",
    "        alerts['duration'] =  (pd.to_datetime(alerts['end_dt']) - alerts['start_dt']).dt.total_seconds() / 60\n",
    "        alerts = alerts[alerts.duration > 60*hours]\n",
    "        alerts['start_raid_next'] = alerts.start_dt.dt.floor('min')\n",
    "        alerts['region_english'] = alerts.region_english.astype('str')\n",
    "        alerts = spark.createDataFrame(alerts[['region_english', 'start_raid_next']])\n",
    "        \n",
    "        air = air.join(alerts.select('region_english', 'start_raid_next'), how = \"inner\", on = ['region_english', 'start_raid_next'])\n",
    "    \n",
    "    air = air.cache()\n",
    "\n",
    "    # create distance from point in 24 hours before alert, 86400\n",
    "    temp = (air.filter((col(\"time_to_raid\").between(-86400,-0.1)) & (col(\"latitude_center\") != 0)).groupBy(\"caid\", \"id\").\n",
    "                agg(F.max(col(\"time_to_raid\")).alias(\"time_to_raid\")))\n",
    "    temp2 = air.select(\"caid\", \"id\", \"time_to_raid\", \"latitude_center\", \"longitude_center\").join(temp, on = ['caid', 'id', 'time_to_raid'], how = \"leftsemi\")\n",
    "    temp2 = temp2.withColumnRenamed(\"latitude_center\", \"latitude_pre\").withColumnRenamed(\"longitude_center\", \"longitude_pre\").drop(\"time_to_raid\")\n",
    "    air = air.join(temp2, on = ['caid', 'id'], how = \"left\")\n",
    "    air = air.withColumn(\"distance_point\", when((col(\"latitude_center\") != 0) & (col(\"latitude_pre\") != 0), dist_udf(pi * col('latitude_center') / 180, pi * col('longitude_center') / 180, \n",
    "                                                                                 pi * col('latitude_pre') / 180, pi * col('longitude_pre') / 180)\n",
    "                                               ).otherwise(lit(None))\n",
    "    )\n",
    "\n",
    "\n",
    "    air = air.filter(col(\"time_to_raid\").between(-3600*hours, 3600*hours)) # balance x hours around the event for now\n",
    "\n",
    "\n",
    "    w2 = Window.partitionBy(\"start_raid_next\", \"region_english\")\n",
    "    #air.withColumn(\"raid_count\", F.countDistinct(\"minute\").over(w2)).agg({'raid_count' : 'max'}).first()[0]\n",
    "    temp = air.groupBy(\"start_raid_next\", \"region_english\").agg(F.countDistinct(\"minute\").alias(\"minute_count\"))\n",
    "\n",
    "    air = air.filter(col(\"region_english\").isNotNull())\n",
    "    air = (air.join(temp, ['start_raid_next', 'region_english'], \"left\")\n",
    "               .filter(col(\"minute_count\") == 60*hours*2+1) # need each minute in the two-hour window around the event to appear for at least one device \n",
    "          )\n",
    "\n",
    "    # dummy whether device is observed in minute\n",
    "    air = air.cache()\n",
    "\n",
    "\n",
    "    # create dummy columns\n",
    "    air = air.withColumn(\"time_to_raid_post\", when(col(\"time_to_raid\") >= -600, col(\"time_to_raid\")).otherwise(-1)) # we only want post dummies\n",
    "    types = air.select(col(\"time_to_raid_post\").cast(StringType())).distinct().rdd.flatMap(lambda x: x).collect()\n",
    "    types_expr = [F.when(F.col(\"time_to_raid_post\") == ty, 1).otherwise(0).alias(\"e_TYPE_\" + ty) for ty in types]\n",
    "    air = air.select([col for col in air.columns] + [*types_expr]).drop(\"e_TYPE_-1\")\n",
    "\n",
    "    return air\n",
    "\n",
    "    # # calculate average distance from point before alert\n",
    "    # temp = air.filter(col(\"time_to_raid\") < 0).groupBy(\"caid\", \"id\").agg(F.avg(col(\"distance_point\")).alias(\"distance_point_pre\"))\n",
    "    # air = air.join(temp, on = ['caid', 'id'], how = \"left\")\n",
    "\n",
    "    # filter only devices that were present in both pre and post period\n",
    "    #air = air.filter(col(\"distance_point\") != 0) #devices that are pinging from the exact same location all day (since otherwise impossible to be exactly == to average)"
   ]
  },
  {
   "cell_type": "code",
   "execution_count": 4,
   "id": "35337e90-39ed-4044-8306-e565c2abda31",
   "metadata": {
    "execution": {
     "iopub.execute_input": "2023-02-07T03:26:15.785339Z",
     "iopub.status.busy": "2023-02-07T03:26:15.785101Z",
     "iopub.status.idle": "2023-02-07T03:29:34.118107Z",
     "shell.execute_reply": "2023-02-07T03:29:34.117534Z",
     "shell.execute_reply.started": "2023-02-07T03:26:15.785314Z"
    }
   },
   "outputs": [
    {
     "data": {
      "application/vnd.jupyter.widget-view+json": {
       "model_id": "f8298ccd8ebb4879a01a0502c7c6356c",
       "version_major": 2,
       "version_minor": 0
      },
      "text/plain": [
       "VBox()"
      ]
     },
     "metadata": {},
     "output_type": "display_data"
    },
    {
     "data": {
      "application/vnd.jupyter.widget-view+json": {
       "model_id": "8cbab19f759e496eb843a74a4c76b9b4",
       "version_major": 2,
       "version_minor": 0
      },
      "text/plain": [
       "FloatProgress(value=0.0, bar_style='info', description='Progress:', layout=Layout(height='25px', width='50%'),…"
      ]
     },
     "metadata": {},
     "output_type": "display_data"
    },
    {
     "name": "stdout",
     "output_type": "stream",
     "text": [
      "/usr/lib/spark/python/lib/pyspark.zip/pyspark/sql/pandas/group_ops.py:84: UserWarning: It is preferred to use 'applyInPandas' over this API. This API will be deprecated in the future releases. See SPARK-28264 for more details."
     ]
    }
   ],
   "source": [
    "## 30 minute window\n",
    "air = prepData()\n",
    "\n",
    "air = (air.withColumn(\"month\", F.month(\"day\")).withColumn(\"period\", \n",
    "                                                         when(col(\"month\").between(3,4), 1)\n",
    "                                                            .otherwise(when(col(\"month\").between(5,6), 2)\n",
    "                                                            .otherwise(when(col(\"month\").between(7,9), 3))))\n",
    "      )\n",
    "temp = air.groupBy(\"caid\").agg(F.countDistinct(\"period\").alias(\"count\"))\n",
    "air = air.join(temp, on = \"caid\", how = \"left\")\n",
    "\n",
    "runEventStudies(\"estimates_filtered\")"
   ]
  },
  {
   "cell_type": "code",
   "execution_count": 8,
   "id": "c75547e6-aa2f-4c09-a9f1-508f14cac24e",
   "metadata": {
    "execution": {
     "iopub.execute_input": "2023-02-06T20:08:56.076000Z",
     "iopub.status.busy": "2023-02-06T20:08:56.075769Z",
     "iopub.status.idle": "2023-02-06T20:09:13.460865Z",
     "shell.execute_reply": "2023-02-06T20:09:13.460369Z",
     "shell.execute_reply.started": "2023-02-06T20:08:56.075975Z"
    }
   },
   "outputs": [
    {
     "data": {
      "application/vnd.jupyter.widget-view+json": {
       "model_id": "878fd645566741bd9c04e68e313ec7c4",
       "version_major": 2,
       "version_minor": 0
      },
      "text/plain": [
       "VBox()"
      ]
     },
     "metadata": {},
     "output_type": "display_data"
    },
    {
     "data": {
      "application/vnd.jupyter.widget-view+json": {
       "model_id": "",
       "version_major": 2,
       "version_minor": 0
      },
      "text/plain": [
       "FloatProgress(value=0.0, bar_style='info', description='Progress:', layout=Layout(height='25px', width='50%'),…"
      ]
     },
     "metadata": {},
     "output_type": "display_data"
    },
    {
     "name": "stdout",
     "output_type": "stream",
     "text": [
      "/usr/lib/spark/python/lib/pyspark.zip/pyspark/sql/pandas/group_ops.py:84: UserWarning: It is preferred to use 'applyInPandas' over this API. This API will be deprecated in the future releases. See SPARK-28264 for more details."
     ]
    }
   ],
   "source": [
    "## urban vs. rural\n",
    "pres = air.alias(\"pres\")\n",
    "air = air.filter(F.col(\"rural\") == 1)\n",
    "runEventStudies(\"estimates_filtered_rural\")\n",
    "\n",
    "air = pres.alias(\"air\")\n",
    "air = air.filter(F.col(\"rural\") == 0)\n",
    "runEventStudies(\"estimates_filtered_urban\")"
   ]
  },
  {
   "cell_type": "code",
   "execution_count": 4,
   "id": "883652c3-f5d0-467e-b1de-4784b344ed9e",
   "metadata": {
    "collapsed": true,
    "execution": {
     "iopub.execute_input": "2023-02-07T05:42:57.195799Z",
     "iopub.status.busy": "2023-02-07T05:42:57.195570Z",
     "iopub.status.idle": "2023-02-07T05:44:57.172325Z",
     "shell.execute_reply": "2023-02-07T05:44:57.171770Z",
     "shell.execute_reply.started": "2023-02-07T05:42:57.195773Z"
    },
    "jupyter": {
     "outputs_hidden": true
    },
    "tags": []
   },
   "outputs": [
    {
     "data": {
      "application/vnd.jupyter.widget-view+json": {
       "model_id": "4877da55443746f7aabeb441af4bd51b",
       "version_major": 2,
       "version_minor": 0
      },
      "text/plain": [
       "VBox()"
      ]
     },
     "metadata": {},
     "output_type": "display_data"
    },
    {
     "data": {
      "application/vnd.jupyter.widget-view+json": {
       "model_id": "76f0dd369d7c4818886902d864e5ffb5",
       "version_major": 2,
       "version_minor": 0
      },
      "text/plain": [
       "FloatProgress(value=0.0, bar_style='info', description='Progress:', layout=Layout(height='25px', width='50%'),…"
      ]
     },
     "metadata": {},
     "output_type": "display_data"
    },
    {
     "name": "stdout",
     "output_type": "stream",
     "text": [
      "DataFrame[caid: string, start_raid_next: timestamp, region_english: string, id: string, day: date, minute: timestamp, kmh_avg: double, distance_avg: double, distance_sum: double, longitude_center: double, latitude_center: double, altitude_avg: double, alert: int, start_raid_min: timestamp, end_raid_max: string, city: string, rural: int, time_to_raid: bigint, latitude_pre: double, longitude_pre: double, distance_point: double, minute_count: bigint, time_to_raid_post: bigint, e_TYPE_2700: int, e_TYPE_4980: int, e_TYPE_10440: int, e_TYPE_3720: int, e_TYPE_3060: int, e_TYPE_14100: int, e_TYPE_12840: int, e_TYPE_5640: int, e_TYPE_4080: int, e_TYPE_12300: int, e_TYPE_10200: int, e_TYPE_12060: int, e_TYPE_4560: int, e_TYPE_9720: int, e_TYPE_300: int, e_TYPE_3600: int, e_TYPE_9060: int, e_TYPE_11820: int, e_TYPE_1860: int, e_TYPE_13920: int, e_TYPE_1200: int, e_TYPE_60: int, e_TYPE_3540: int, e_TYPE_11220: int, e_TYPE_8940: int, e_TYPE_4380: int, e_TYPE_2160: int, e_TYPE_11040: int, e_TYPE_2400: int, e_TYPE_360: int, e_TYPE_9600: int, e_TYPE_9120: int, e_TYPE_1980: int, e_TYPE_240: int, e_TYPE_180: int, e_TYPE_5760: int, e_TYPE_5460: int, e_TYPE_-420: int, e_TYPE_8340: int, e_TYPE_7800: int, e_TYPE_11580: int, e_TYPE_1020: int, e_TYPE_720: int, e_TYPE_900: int, e_TYPE_2880: int, e_TYPE_10620: int, e_TYPE_12900: int, e_TYPE_-360: int, e_TYPE_9660: int, e_TYPE_12360: int, e_TYPE_13680: int, e_TYPE_1920: int, e_TYPE_8640: int, e_TYPE_6900: int, e_TYPE_7980: int, e_TYPE_11280: int, e_TYPE_8220: int, e_TYPE_4200: int, e_TYPE_11520: int, e_TYPE_8160: int, e_TYPE_6420: int, e_TYPE_1260: int, e_TYPE_11880: int, e_TYPE_9480: int, e_TYPE_12240: int, e_TYPE_12600: int, e_TYPE_-600: int, e_TYPE_13140: int, e_TYPE_7020: int, e_TYPE_7620: int, e_TYPE_14040: int, e_TYPE_1740: int, e_TYPE_8880: int, e_TYPE_4920: int, e_TYPE_10560: int, e_TYPE_9000: int, e_TYPE_660: int, e_TYPE_10320: int, e_TYPE_1080: int, e_TYPE_540: int, e_TYPE_9960: int, e_TYPE_13440: int, e_TYPE_1320: int, e_TYPE_13080: int, e_TYPE_11340: int, e_TYPE_4260: int, e_TYPE_4620: int, e_TYPE_6660: int, e_TYPE_4440: int, e_TYPE_10860: int, e_TYPE_10020: int, e_TYPE_-240: int, e_TYPE_11400: int, e_TYPE_10380: int, e_TYPE_7380: int, e_TYPE_4800: int, e_TYPE_12660: int, e_TYPE_10800: int, e_TYPE_1380: int, e_TYPE_6780: int, e_TYPE_8700: int, e_TYPE_6240: int, e_TYPE_6300: int, e_TYPE_4740: int, e_TYPE_3660: int, e_TYPE_-480: int, e_TYPE_-180: int, e_TYPE_5820: int, e_TYPE_12960: int, e_TYPE_0: int, e_TYPE_3300: int, e_TYPE_3360: int, e_TYPE_9300: int, e_TYPE_5580: int, e_TYPE_5340: int, e_TYPE_11760: int, e_TYPE_120: int, e_TYPE_13620: int, e_TYPE_12000: int, e_TYPE_9540: int, e_TYPE_5400: int, e_TYPE_13740: int, e_TYPE_4860: int, e_TYPE_9240: int, e_TYPE_11460: int, e_TYPE_8460: int, e_TYPE_840: int, e_TYPE_11700: int, e_TYPE_12120: int, e_TYPE_5100: int, e_TYPE_3840: int, e_TYPE_11940: int, e_TYPE_3900: int, e_TYPE_6480: int, e_TYPE_12540: int, e_TYPE_10980: int, e_TYPE_1680: int, e_TYPE_7200: int, e_TYPE_13560: int, e_TYPE_11640: int, e_TYPE_2220: int, e_TYPE_960: int, e_TYPE_7500: int, e_TYPE_12780: int, e_TYPE_1440: int, e_TYPE_9180: int, e_TYPE_7920: int, e_TYPE_9360: int, e_TYPE_6000: int, e_TYPE_-300: int, e_TYPE_7740: int, e_TYPE_2040: int, e_TYPE_14160: int, e_TYPE_6720: int, e_TYPE_1500: int, e_TYPE_10260: int, e_TYPE_5520: int, e_TYPE_1620: int, e_TYPE_14400: int, e_TYPE_5280: int, e_TYPE_13260: int, e_TYPE_7080: int, e_TYPE_-540: int, e_TYPE_4020: int, e_TYPE_7560: int, e_TYPE_14280: int, e_TYPE_2640: int, e_TYPE_8040: int, e_TYPE_7320: int, e_TYPE_4140: int, e_TYPE_14220: int, e_TYPE_2340: int, e_TYPE_3420: int, e_TYPE_4680: int, e_TYPE_7860: int, e_TYPE_3780: int, e_TYPE_3240: int, e_TYPE_12180: int, e_TYPE_10920: int, e_TYPE_9900: int, e_TYPE_7260: int, e_TYPE_1560: int, e_TYPE_13320: int, e_TYPE_6960: int, e_TYPE_13380: int, e_TYPE_600: int, e_TYPE_3180: int, e_TYPE_4320: int, e_TYPE_7140: int, e_TYPE_7440: int, e_TYPE_2760: int, e_TYPE_4500: int, e_TYPE_13020: int, e_TYPE_8520: int, e_TYPE_8820: int, e_TYPE_10500: int, e_TYPE_8400: int, e_TYPE_14340: int, e_TYPE_12420: int, e_TYPE_9420: int, e_TYPE_9780: int, e_TYPE_2100: int, e_TYPE_13860: int, e_TYPE_5700: int, e_TYPE_2580: int, e_TYPE_6840: int, e_TYPE_6120: int, e_TYPE_6600: int, e_TYPE_5880: int, e_TYPE_11100: int, e_TYPE_12480: int, e_TYPE_8580: int, e_TYPE_3960: int, e_TYPE_6180: int, e_TYPE_13200: int, e_TYPE_5040: int, e_TYPE_6360: int, e_TYPE_3000: int, e_TYPE_2280: int, e_TYPE_2940: int, e_TYPE_10080: int, e_TYPE_13980: int, e_TYPE_2520: int, e_TYPE_2820: int, e_TYPE_5940: int, e_TYPE_3480: int, e_TYPE_1140: int, e_TYPE_-60: int, e_TYPE_8280: int, e_TYPE_2460: int, e_TYPE_10140: int, e_TYPE_8100: int, e_TYPE_11160: int, e_TYPE_480: int, e_TYPE_13500: int, e_TYPE_780: int, e_TYPE_5160: int, e_TYPE_13800: int, e_TYPE_-120: int, e_TYPE_420: int, e_TYPE_6540: int, e_TYPE_7680: int, e_TYPE_12720: int, e_TYPE_10740: int, e_TYPE_6060: int, e_TYPE_1800: int, e_TYPE_10680: int, e_TYPE_5220: int, e_TYPE_8760: int, e_TYPE_9840: int, e_TYPE_3120: int, month: int, period: int, count: bigint]"
     ]
    }
   ],
   "source": [
    "## 60 minute window\n",
    "for hr in [1, 4]:\n",
    "    air = prepData(hours = hr, extend = True)\n",
    "    air = air.cache()\n",
    "    air = (air.withColumn(\"month\", F.month(\"day\")).withColumn(\"period\", \n",
    "                                                             when(col(\"month\").between(3,4), 1)\n",
    "                                                                .otherwise(when(col(\"month\").between(5,6), 2)\n",
    "                                                                .otherwise(when(col(\"month\").between(7,9), 3))))\n",
    "          )\n",
    "    temp = air.groupBy(\"caid\").agg(F.countDistinct(\"period\").alias(\"count\"))\n",
    "    air = air.join(temp, on = \"caid\", how = \"left\")\n",
    "\n",
    "    runEventStudies(\"estimates_filtered_\" + str(60*hr))\n",
    "    \n",
    "    air = air.unpersist()"
   ]
  },
  {
   "cell_type": "markdown",
   "id": "3c8d5107-8b6c-4bb1-bccc-91f2f030d80d",
   "metadata": {},
   "source": [
    "#### Two-wall rule"
   ]
  },
  {
   "cell_type": "markdown",
   "id": "62b24318-c6a7-46e4-bcc9-c816328f3b62",
   "metadata": {},
   "source": [
    "Home locations"
   ]
  },
  {
   "cell_type": "code",
   "execution_count": 39,
   "id": "9a0f6837-e238-4d79-88b8-be565ede5b87",
   "metadata": {
    "execution": {
     "iopub.execute_input": "2023-02-08T16:50:09.961795Z",
     "iopub.status.busy": "2023-02-08T16:50:09.961549Z",
     "iopub.status.idle": "2023-02-08T16:50:16.382026Z",
     "shell.execute_reply": "2023-02-08T16:50:16.381462Z",
     "shell.execute_reply.started": "2023-02-08T16:50:09.961768Z"
    },
    "tags": []
   },
   "outputs": [
    {
     "data": {
      "application/vnd.jupyter.widget-view+json": {
       "model_id": "8463033c09a749e98e3d147c43e6c173",
       "version_major": 2,
       "version_minor": 0
      },
      "text/plain": [
       "VBox()"
      ]
     },
     "metadata": {},
     "output_type": "display_data"
    },
    {
     "data": {
      "application/vnd.jupyter.widget-view+json": {
       "model_id": "",
       "version_major": 2,
       "version_minor": 0
      },
      "text/plain": [
       "FloatProgress(value=0.0, bar_style='info', description='Progress:', layout=Layout(height='25px', width='50%'),…"
      ]
     },
     "metadata": {},
     "output_type": "display_data"
    }
   ],
   "source": [
    "air = prepData()"
   ]
  },
  {
   "cell_type": "code",
   "execution_count": 40,
   "id": "5723f507-5b2a-4a6d-8e22-fa6fdd91587e",
   "metadata": {
    "execution": {
     "iopub.execute_input": "2023-02-08T16:50:16.383093Z",
     "iopub.status.busy": "2023-02-08T16:50:16.382932Z",
     "iopub.status.idle": "2023-02-08T16:50:18.649547Z",
     "shell.execute_reply": "2023-02-08T16:50:18.649039Z",
     "shell.execute_reply.started": "2023-02-08T16:50:16.383070Z"
    },
    "tags": []
   },
   "outputs": [
    {
     "data": {
      "application/vnd.jupyter.widget-view+json": {
       "model_id": "dfeb23f0400a4d649b4fd202b937de02",
       "version_major": 2,
       "version_minor": 0
      },
      "text/plain": [
       "VBox()"
      ]
     },
     "metadata": {},
     "output_type": "display_data"
    },
    {
     "data": {
      "application/vnd.jupyter.widget-view+json": {
       "model_id": "",
       "version_major": 2,
       "version_minor": 0
      },
      "text/plain": [
       "FloatProgress(value=0.0, bar_style='info', description='Progress:', layout=Layout(height='25px', width='50%'),…"
      ]
     },
     "metadata": {},
     "output_type": "display_data"
    }
   ],
   "source": [
    "air = (air.withColumn(\"month\", F.month(\"day\")).withColumn(\"period\", \n",
    "                                                         when(col(\"month\").between(3,4), 1)\n",
    "                                                            .otherwise(when(col(\"month\").between(5,6), 2)\n",
    "                                                            .otherwise(when(col(\"month\").between(7,9), 3))))\n",
    "      )\n",
    "temp = air.groupBy(\"caid\").agg(F.countDistinct(\"period\").alias(\"count\"))\n",
    "air = air.join(temp, on = \"caid\", how = \"left\")\n",
    "\n",
    "air = air.cache()\n",
    "\n",
    "# read homes data\n",
    "homes = spark.read.parquet(\"s3://ipsos-dvd/ukr/data/homes_2022-01-01_2022-12-31/\")\n",
    "\n",
    "# get closest month (the home dates are 30 days apart so adding 5 days makes sure each date is in a unique month)\n",
    "homes = homes.withColumn(\"month\", F.month(F.date_add(F.col(\"start_date\"),5)))\n",
    "homes = homes.withColumnRenamed(\"longitude\", \"longitude_home\").withColumnRenamed(\"latitude\", \"latitude_home\")\n",
    "\n",
    "# join in homes data\n",
    "air = air.withColumn(\"month\", F.month(col(\"start_raid_next\"))).join(homes, on = [\"month\", \"caid\"], how = \"left\")\n",
    "\n",
    "# calculate distance from home\n",
    "air = air.filter(col(\"longitude_home\").isNotNull())\n",
    "air = air.withColumn(\"distance_home\", \n",
    "                     dist_udf(pi * col('latitude_center') / 180, pi * col('longitude_center') / 180, \n",
    "                                    pi * col('latitude_home') / 180, pi * col('longitude_home') / 180)\n",
    "                    )\n",
    "\n",
    "# get min distance from home by device and alert\n",
    "temp = air.groupBy(\"caid\", \"id\").agg(F.min(\"distance_home\").alias(\"distance_home_min\"))\n",
    "air = air.join(temp, on = ['caid', 'id'], how = \"left\")"
   ]
  },
  {
   "cell_type": "code",
   "execution_count": 41,
   "id": "536d7f5d-302a-485f-ae5a-ef1a6c41ae69",
   "metadata": {
    "execution": {
     "iopub.execute_input": "2023-02-08T16:50:18.650772Z",
     "iopub.status.busy": "2023-02-08T16:50:18.650604Z",
     "iopub.status.idle": "2023-02-08T16:51:12.914657Z",
     "shell.execute_reply": "2023-02-08T16:51:12.914144Z",
     "shell.execute_reply.started": "2023-02-08T16:50:18.650750Z"
    },
    "tags": []
   },
   "outputs": [
    {
     "data": {
      "application/vnd.jupyter.widget-view+json": {
       "model_id": "1758331d33a34799b7c7a294d707c1ff",
       "version_major": 2,
       "version_minor": 0
      },
      "text/plain": [
       "VBox()"
      ]
     },
     "metadata": {},
     "output_type": "display_data"
    },
    {
     "data": {
      "application/vnd.jupyter.widget-view+json": {
       "model_id": "",
       "version_major": 2,
       "version_minor": 0
      },
      "text/plain": [
       "FloatProgress(value=0.0, bar_style='info', description='Progress:', layout=Layout(height='25px', width='50%'),…"
      ]
     },
     "metadata": {},
     "output_type": "display_data"
    }
   ],
   "source": [
    "# device had to be at least 100 meters away from home at any time during the alert window\n",
    "air = air.filter(col('distance_home_min') > 100)\n",
    "\n",
    "runEventStudies(\"estimates_filtered_away_from_home\")"
   ]
  },
  {
   "cell_type": "markdown",
   "id": "dc5a35b3-4841-4e3b-af4d-ab98646370e2",
   "metadata": {},
   "source": [
    "Travel speed"
   ]
  },
  {
   "cell_type": "code",
   "execution_count": 43,
   "id": "4f78e229-230c-42df-9827-9753ecd528d6",
   "metadata": {
    "execution": {
     "iopub.execute_input": "2023-02-08T17:49:48.215149Z",
     "iopub.status.busy": "2023-02-08T17:49:48.214914Z",
     "iopub.status.idle": "2023-02-08T17:49:56.798033Z",
     "shell.execute_reply": "2023-02-08T17:49:56.797450Z",
     "shell.execute_reply.started": "2023-02-08T17:49:48.215123Z"
    }
   },
   "outputs": [
    {
     "data": {
      "application/vnd.jupyter.widget-view+json": {
       "model_id": "ee275d8e062a4a72ada1d8daa3db59f5",
       "version_major": 2,
       "version_minor": 0
      },
      "text/plain": [
       "VBox()"
      ]
     },
     "metadata": {},
     "output_type": "display_data"
    },
    {
     "data": {
      "application/vnd.jupyter.widget-view+json": {
       "model_id": "",
       "version_major": 2,
       "version_minor": 0
      },
      "text/plain": [
       "FloatProgress(value=0.0, bar_style='info', description='Progress:', layout=Layout(height='25px', width='50%'),…"
      ]
     },
     "metadata": {},
     "output_type": "display_data"
    }
   ],
   "source": [
    "air = prepData()"
   ]
  },
  {
   "cell_type": "code",
   "execution_count": 53,
   "id": "0c3b5202-85af-4ceb-9992-3bcf6e1dc42a",
   "metadata": {
    "execution": {
     "iopub.execute_input": "2023-02-08T17:54:16.501678Z",
     "iopub.status.busy": "2023-02-08T17:54:16.501444Z",
     "iopub.status.idle": "2023-02-08T17:54:16.752728Z",
     "shell.execute_reply": "2023-02-08T17:54:16.752212Z",
     "shell.execute_reply.started": "2023-02-08T17:54:16.501654Z"
    }
   },
   "outputs": [
    {
     "data": {
      "application/vnd.jupyter.widget-view+json": {
       "model_id": "6c1cc8323a9446a9bad873c2fcb9d258",
       "version_major": 2,
       "version_minor": 0
      },
      "text/plain": [
       "VBox()"
      ]
     },
     "metadata": {},
     "output_type": "display_data"
    },
    {
     "data": {
      "application/vnd.jupyter.widget-view+json": {
       "model_id": "",
       "version_major": 2,
       "version_minor": 0
      },
      "text/plain": [
       "FloatProgress(value=0.0, bar_style='info', description='Progress:', layout=Layout(height='25px', width='50%'),…"
      ]
     },
     "metadata": {},
     "output_type": "display_data"
    }
   ],
   "source": [
    "# get min speed by device by alert\n",
    "temp = air.groupBy(\"caid\", \"id\").agg(F.min(\"kmh_avg\").alias(\"kmh_avg_min\"))\n",
    "air = air.join(temp, on = ['caid', 'id'], how = \"left\")"
   ]
  },
  {
   "cell_type": "code",
   "execution_count": 60,
   "id": "68b9f916-da2b-4882-8199-ccbf5defaa73",
   "metadata": {
    "execution": {
     "iopub.execute_input": "2023-02-08T17:59:53.525576Z",
     "iopub.status.busy": "2023-02-08T17:59:53.525253Z",
     "iopub.status.idle": "2023-02-08T18:00:16.036092Z",
     "shell.execute_reply": "2023-02-08T18:00:16.035573Z",
     "shell.execute_reply.started": "2023-02-08T17:59:53.525536Z"
    },
    "tags": []
   },
   "outputs": [
    {
     "data": {
      "application/vnd.jupyter.widget-view+json": {
       "model_id": "f0ee20868fa5436ca17c5eaacc510c2c",
       "version_major": 2,
       "version_minor": 0
      },
      "text/plain": [
       "VBox()"
      ]
     },
     "metadata": {},
     "output_type": "display_data"
    },
    {
     "data": {
      "application/vnd.jupyter.widget-view+json": {
       "model_id": "",
       "version_major": 2,
       "version_minor": 0
      },
      "text/plain": [
       "FloatProgress(value=0.0, bar_style='info', description='Progress:', layout=Layout(height='25px', width='50%'),…"
      ]
     },
     "metadata": {},
     "output_type": "display_data"
    }
   ],
   "source": [
    "air = air.filter(col('kmh_avg_min') > 0.3) #.agg(F.percentile_approx(col('kmh_avg_min'), 0.90)).show()\n",
    "runEventStudies(\"estimates_filtered_moving\")"
   ]
  },
  {
   "cell_type": "markdown",
   "id": "3c7ed72a-9983-43ae-90e0-6e438e738f24",
   "metadata": {},
   "source": [
    "## Interactions"
   ]
  },
  {
   "cell_type": "markdown",
   "id": "b4be151b-ef03-4052-94ad-38eab2c3ea25",
   "metadata": {},
   "source": [
    "#### Calculate distance to front"
   ]
  },
  {
   "cell_type": "code",
   "execution_count": 9,
   "id": "ca3493df-9d3c-40ad-b816-e1cebe4137bc",
   "metadata": {
    "execution": {
     "iopub.execute_input": "2022-11-24T04:16:39.626530Z",
     "iopub.status.busy": "2022-11-24T04:16:39.626369Z",
     "iopub.status.idle": "2022-11-24T04:16:40.381932Z",
     "shell.execute_reply": "2022-11-24T04:16:40.381458Z",
     "shell.execute_reply.started": "2022-11-24T04:16:39.626510Z"
    },
    "tags": []
   },
   "outputs": [
    {
     "data": {
      "application/vnd.jupyter.widget-view+json": {
       "model_id": "e9a9d06ea6434be4b8cdae6992712a1b",
       "version_major": 2,
       "version_minor": 0
      },
      "text/plain": [
       "VBox()"
      ]
     },
     "metadata": {},
     "output_type": "display_data"
    },
    {
     "data": {
      "application/vnd.jupyter.widget-view+json": {
       "model_id": "",
       "version_major": 2,
       "version_minor": 0
      },
      "text/plain": [
       "FloatProgress(value=0.0, bar_style='info', description='Progress:', layout=Layout(height='25px', width='50%'),…"
      ]
     },
     "metadata": {},
     "output_type": "display_data"
    }
   ],
   "source": [
    "### get distance from front line\n",
    "@udf(returnType = DoubleType())\n",
    "def polydistance(point_x, point_y, poly):\n",
    "    from shapely import wkt\n",
    "    from shapely import geometry\n",
    "    polygon = wkt.loads(poly)\n",
    "    point = geometry.Point(point_x, point_y)\n",
    "    return polygon.distance(point)\n",
    "    \n",
    "# read frontline shapefile\n",
    "front = spark.read.csv(data_dir + \"frontline.csv\", header = True)\n",
    "front = front.dropDuplicates([\"date\"])\n",
    "front = front.withColumnRenamed(\"date\", \"day\")\n",
    "\n",
    "air = air.join(front, on = \"day\")\n"
   ]
  },
  {
   "cell_type": "code",
   "execution_count": 8,
   "id": "4d3440c8-44e6-4a30-83f8-11850a7ff487",
   "metadata": {
    "execution": {
     "iopub.execute_input": "2022-11-23T18:14:48.513346Z",
     "iopub.status.busy": "2022-11-23T18:14:48.513057Z",
     "iopub.status.idle": "2022-11-23T18:14:48.600101Z",
     "shell.execute_reply": "2022-11-23T18:14:48.599100Z",
     "shell.execute_reply.started": "2022-11-23T18:14:48.513313Z"
    },
    "tags": []
   },
   "outputs": [
    {
     "data": {
      "application/vnd.jupyter.widget-view+json": {
       "model_id": "248cce4f2afd4f29b12db992b3f3ea7e",
       "version_major": 2,
       "version_minor": 0
      },
      "text/plain": [
       "VBox()"
      ]
     },
     "metadata": {},
     "output_type": "display_data"
    },
    {
     "data": {
      "application/vnd.jupyter.widget-view+json": {
       "model_id": "",
       "version_major": 2,
       "version_minor": 0
      },
      "text/plain": [
       "FloatProgress(value=0.0, bar_style='info', description='Progress:', layout=Layout(height='25px', width='50%'),…"
      ]
     },
     "metadata": {},
     "output_type": "display_data"
    }
   ],
   "source": [
    "pres = air.alias(\"pres\")"
   ]
  },
  {
   "cell_type": "code",
   "execution_count": 10,
   "id": "aa635f8c-0f53-4f51-9e01-0b695c0167f4",
   "metadata": {
    "execution": {
     "iopub.execute_input": "2022-11-24T04:16:40.382944Z",
     "iopub.status.busy": "2022-11-24T04:16:40.382762Z",
     "iopub.status.idle": "2022-11-24T04:16:41.140208Z",
     "shell.execute_reply": "2022-11-24T04:16:41.139727Z",
     "shell.execute_reply.started": "2022-11-24T04:16:40.382902Z"
    },
    "tags": []
   },
   "outputs": [
    {
     "data": {
      "application/vnd.jupyter.widget-view+json": {
       "model_id": "3f9aa9bf132b4efaa05fc71077f8f9c9",
       "version_major": 2,
       "version_minor": 0
      },
      "text/plain": [
       "VBox()"
      ]
     },
     "metadata": {},
     "output_type": "display_data"
    },
    {
     "data": {
      "application/vnd.jupyter.widget-view+json": {
       "model_id": "",
       "version_major": 2,
       "version_minor": 0
      },
      "text/plain": [
       "FloatProgress(value=0.0, bar_style='info', description='Progress:', layout=Layout(height='25px', width='50%'),…"
      ]
     },
     "metadata": {},
     "output_type": "display_data"
    }
   ],
   "source": [
    "temp = air.dropDuplicates([\"caid\", \"id\"]).select(\"longitude_center\", \"latitude_center\", \"geometry\", \"caid\", \"id\")\n",
    "temp = (temp.withColumn(\"distance_to_front\", polydistance(col(\"longitude_center\"), col(\"latitude_center\"), col(\"geometry\")))\n",
    "            .select(\"caid\", \"distance_to_front\", \"id\"))\n",
    "air = air.join(temp, on = [\"caid\", \"id\"])"
   ]
  },
  {
   "cell_type": "code",
   "execution_count": 12,
   "id": "460714d6-fd05-4d3c-b759-db85682ed2d1",
   "metadata": {
    "execution": {
     "iopub.execute_input": "2022-11-24T04:39:12.915135Z",
     "iopub.status.busy": "2022-11-24T04:39:12.914896Z",
     "iopub.status.idle": "2022-11-24T04:48:16.544687Z",
     "shell.execute_reply": "2022-11-24T04:48:16.544141Z",
     "shell.execute_reply.started": "2022-11-24T04:39:12.915110Z"
    },
    "tags": []
   },
   "outputs": [
    {
     "data": {
      "application/vnd.jupyter.widget-view+json": {
       "model_id": "8ce8be764eb247079a7b979139167670",
       "version_major": 2,
       "version_minor": 0
      },
      "text/plain": [
       "VBox()"
      ]
     },
     "metadata": {},
     "output_type": "display_data"
    },
    {
     "data": {
      "application/vnd.jupyter.widget-view+json": {
       "model_id": "",
       "version_major": 2,
       "version_minor": 0
      },
      "text/plain": [
       "FloatProgress(value=0.0, bar_style='info', description='Progress:', layout=Layout(height='25px', width='50%'),…"
      ]
     },
     "metadata": {},
     "output_type": "display_data"
    }
   ],
   "source": [
    "air = air.drop(\"geometry\")\n",
    "air.write.option(\"header\", True).mode(\"overwrite\").csv(data_dir + \"distance_to_front\")"
   ]
  },
  {
   "cell_type": "markdown",
   "id": "87170e08-ab2d-4e2e-93e3-bb9d529dad15",
   "metadata": {},
   "source": [
    "#### Run distance-to-front interacted regressions"
   ]
  },
  {
   "cell_type": "code",
   "execution_count": 89,
   "id": "721ccf76-34d8-4c7a-b4cb-379580d4f109",
   "metadata": {
    "execution": {
     "iopub.execute_input": "2022-11-24T20:15:34.517636Z",
     "iopub.status.busy": "2022-11-24T20:15:34.516160Z",
     "iopub.status.idle": "2022-11-24T20:15:35.439272Z",
     "shell.execute_reply": "2022-11-24T20:15:35.438786Z",
     "shell.execute_reply.started": "2022-11-24T20:15:34.517610Z"
    },
    "tags": []
   },
   "outputs": [
    {
     "data": {
      "application/vnd.jupyter.widget-view+json": {
       "model_id": "2ac9e84ad567462db01126af72337d67",
       "version_major": 2,
       "version_minor": 0
      },
      "text/plain": [
       "VBox()"
      ]
     },
     "metadata": {},
     "output_type": "display_data"
    },
    {
     "data": {
      "application/vnd.jupyter.widget-view+json": {
       "model_id": "",
       "version_major": 2,
       "version_minor": 0
      },
      "text/plain": [
       "FloatProgress(value=0.0, bar_style='info', description='Progress:', layout=Layout(height='25px', width='50%'),…"
      ]
     },
     "metadata": {},
     "output_type": "display_data"
    }
   ],
   "source": [
    "air = spark.read.csv(data_dir + \"distance_to_front\", header = True)"
   ]
  },
  {
   "cell_type": "code",
   "execution_count": 90,
   "id": "cb73fd27-0b18-4bec-986f-8b4b061e2fa7",
   "metadata": {
    "execution": {
     "iopub.execute_input": "2022-11-24T20:15:35.440290Z",
     "iopub.status.busy": "2022-11-24T20:15:35.440122Z",
     "iopub.status.idle": "2022-11-24T20:15:35.687538Z",
     "shell.execute_reply": "2022-11-24T20:15:35.687041Z",
     "shell.execute_reply.started": "2022-11-24T20:15:35.440261Z"
    },
    "tags": []
   },
   "outputs": [
    {
     "data": {
      "application/vnd.jupyter.widget-view+json": {
       "model_id": "22ccd7ea0b7c4a84a72dbc73264fe6ff",
       "version_major": 2,
       "version_minor": 0
      },
      "text/plain": [
       "VBox()"
      ]
     },
     "metadata": {},
     "output_type": "display_data"
    },
    {
     "data": {
      "application/vnd.jupyter.widget-view+json": {
       "model_id": "",
       "version_major": 2,
       "version_minor": 0
      },
      "text/plain": [
       "FloatProgress(value=0.0, bar_style='info', description='Progress:', layout=Layout(height='25px', width='50%'),…"
      ]
     },
     "metadata": {},
     "output_type": "display_data"
    }
   ],
   "source": [
    "w = Window.partitionBy(\"id\")\n",
    "air = air.cache()\n",
    "air = air.withColumn(\"distance_to_front\", col(\"distance_to_front\") * 111139 / 1000) # column is in degrees\n",
    "air = air.withColumn(\"distance_to_front_log\", F.log(1+col(\"distance_to_front\")))\n",
    "air = air.withColumn(\"distance_med\", (F.col(\"distance_to_front\") >= F.percentile_approx(\"distance_to_front\", 0.5).over(w)).cast(IntegerType()))"
   ]
  },
  {
   "cell_type": "code",
   "execution_count": 91,
   "id": "e5059d00-5057-47e9-a685-7060dc0bbb04",
   "metadata": {
    "execution": {
     "iopub.execute_input": "2022-11-24T20:15:36.070172Z",
     "iopub.status.busy": "2022-11-24T20:15:36.069956Z",
     "iopub.status.idle": "2022-11-24T20:15:36.114801Z",
     "shell.execute_reply": "2022-11-24T20:15:36.114262Z",
     "shell.execute_reply.started": "2022-11-24T20:15:36.070149Z"
    },
    "tags": []
   },
   "outputs": [
    {
     "data": {
      "application/vnd.jupyter.widget-view+json": {
       "model_id": "7cadda85a8d74f50a333fdb70aa5bcaa",
       "version_major": 2,
       "version_minor": 0
      },
      "text/plain": [
       "VBox()"
      ]
     },
     "metadata": {},
     "output_type": "display_data"
    },
    {
     "data": {
      "application/vnd.jupyter.widget-view+json": {
       "model_id": "",
       "version_major": 2,
       "version_minor": 0
      },
      "text/plain": [
       "FloatProgress(value=0.0, bar_style='info', description='Progress:', layout=Layout(height='25px', width='50%'),…"
      ]
     },
     "metadata": {},
     "output_type": "display_data"
    }
   ],
   "source": [
    "# filter Donetsk and Luhansk\n",
    "air = air.filter(~ (col(\"id\").contains(\"Donetsk\") | col(\"id\").contains(\"Luhansk\")))"
   ]
  },
  {
   "cell_type": "code",
   "execution_count": 92,
   "id": "cabca449-100f-4e1d-a3cc-80260426a5bf",
   "metadata": {
    "execution": {
     "iopub.execute_input": "2022-11-24T20:15:41.988408Z",
     "iopub.status.busy": "2022-11-24T20:15:41.988165Z",
     "iopub.status.idle": "2022-11-24T20:15:42.235426Z",
     "shell.execute_reply": "2022-11-24T20:15:42.234911Z",
     "shell.execute_reply.started": "2022-11-24T20:15:41.988384Z"
    },
    "tags": []
   },
   "outputs": [
    {
     "data": {
      "application/vnd.jupyter.widget-view+json": {
       "model_id": "5891c99a93c74944a301beca658be827",
       "version_major": 2,
       "version_minor": 0
      },
      "text/plain": [
       "VBox()"
      ]
     },
     "metadata": {},
     "output_type": "display_data"
    },
    {
     "data": {
      "application/vnd.jupyter.widget-view+json": {
       "model_id": "",
       "version_major": 2,
       "version_minor": 0
      },
      "text/plain": [
       "FloatProgress(value=0.0, bar_style='info', description='Progress:', layout=Layout(height='25px', width='50%'),…"
      ]
     },
     "metadata": {},
     "output_type": "display_data"
    }
   ],
   "source": [
    "# areas with less than 50km variation\n",
    "temp = air.groupBy(\"id\").agg((F.max(\"distance_to_front\") - F.min(\"distance_to_front\")).alias('spread'))\n",
    "air = air.join(temp, on = \"id\", how = \"left\").filter(col(\"spread\") >= 50).drop(\"spread\")"
   ]
  },
  {
   "cell_type": "code",
   "execution_count": 93,
   "id": "ccd14586-a14f-4e40-a1b4-37f24e223e5e",
   "metadata": {
    "execution": {
     "iopub.execute_input": "2022-11-24T20:15:44.017917Z",
     "iopub.status.busy": "2022-11-24T20:15:44.017699Z",
     "iopub.status.idle": "2022-11-24T20:15:44.268565Z",
     "shell.execute_reply": "2022-11-24T20:15:44.267908Z",
     "shell.execute_reply.started": "2022-11-24T20:15:44.017893Z"
    },
    "tags": []
   },
   "outputs": [
    {
     "data": {
      "application/vnd.jupyter.widget-view+json": {
       "model_id": "178ca841049a48cb85edd149d8b285bf",
       "version_major": 2,
       "version_minor": 0
      },
      "text/plain": [
       "VBox()"
      ]
     },
     "metadata": {},
     "output_type": "display_data"
    },
    {
     "data": {
      "application/vnd.jupyter.widget-view+json": {
       "model_id": "",
       "version_major": 2,
       "version_minor": 0
      },
      "text/plain": [
       "FloatProgress(value=0.0, bar_style='info', description='Progress:', layout=Layout(height='25px', width='50%'),…"
      ]
     },
     "metadata": {},
     "output_type": "display_data"
    }
   ],
   "source": [
    "# areas with minimum number of observations\n",
    "temp = air.groupby(\"id\").agg(F.count(\"caid\").alias(\"obs\"))\n",
    "air = air.join(temp, on = \"id\", how = \"left\").filter(col(\"obs\") >= 200).drop(\"obs\")"
   ]
  },
  {
   "cell_type": "code",
   "execution_count": 94,
   "id": "b10a55f4-20a6-4ff8-b85e-7c2d6a9b0cb9",
   "metadata": {
    "execution": {
     "iopub.execute_input": "2022-11-24T20:15:44.684815Z",
     "iopub.status.busy": "2022-11-24T20:15:44.684594Z",
     "iopub.status.idle": "2022-11-24T20:15:44.934223Z",
     "shell.execute_reply": "2022-11-24T20:15:44.933742Z",
     "shell.execute_reply.started": "2022-11-24T20:15:44.684791Z"
    },
    "tags": []
   },
   "outputs": [
    {
     "data": {
      "application/vnd.jupyter.widget-view+json": {
       "model_id": "72c431976dd34f019ac7a6f56b3f9c47",
       "version_major": 2,
       "version_minor": 0
      },
      "text/plain": [
       "VBox()"
      ]
     },
     "metadata": {},
     "output_type": "display_data"
    },
    {
     "data": {
      "application/vnd.jupyter.widget-view+json": {
       "model_id": "",
       "version_major": 2,
       "version_minor": 0
      },
      "text/plain": [
       "FloatProgress(value=0.0, bar_style='info', description='Progress:', layout=Layout(height='25px', width='50%'),…"
      ]
     },
     "metadata": {},
     "output_type": "display_data"
    }
   ],
   "source": [
    "pres = air.alias(\"pres\")\n",
    "air = air.cache()"
   ]
  },
  {
   "cell_type": "code",
   "execution_count": 95,
   "id": "1dab3a6a-0d06-44fe-81cd-6fa537649eb7",
   "metadata": {
    "execution": {
     "iopub.execute_input": "2022-11-24T20:15:45.162464Z",
     "iopub.status.busy": "2022-11-24T20:15:45.162248Z",
     "iopub.status.idle": "2022-11-24T20:15:45.206352Z",
     "shell.execute_reply": "2022-11-24T20:15:45.205863Z",
     "shell.execute_reply.started": "2022-11-24T20:15:45.162440Z"
    },
    "tags": []
   },
   "outputs": [
    {
     "data": {
      "application/vnd.jupyter.widget-view+json": {
       "model_id": "23e590fd840a4700845438cd1848891b",
       "version_major": 2,
       "version_minor": 0
      },
      "text/plain": [
       "VBox()"
      ]
     },
     "metadata": {},
     "output_type": "display_data"
    },
    {
     "data": {
      "application/vnd.jupyter.widget-view+json": {
       "model_id": "",
       "version_major": 2,
       "version_minor": 0
      },
      "text/plain": [
       "FloatProgress(value=0.0, bar_style='info', description='Progress:', layout=Layout(height='25px', width='50%'),…"
      ]
     },
     "metadata": {},
     "output_type": "display_data"
    }
   ],
   "source": [
    "air = air.cache()"
   ]
  },
  {
   "cell_type": "code",
   "execution_count": 96,
   "id": "824b2fb4-a15f-4cf6-b89c-91a27a8a274d",
   "metadata": {
    "execution": {
     "iopub.execute_input": "2022-11-24T20:15:46.229999Z",
     "iopub.status.busy": "2022-11-24T20:15:46.229775Z",
     "iopub.status.idle": "2022-11-24T20:15:46.480521Z",
     "shell.execute_reply": "2022-11-24T20:15:46.480016Z",
     "shell.execute_reply.started": "2022-11-24T20:15:46.229974Z"
    },
    "tags": []
   },
   "outputs": [
    {
     "data": {
      "application/vnd.jupyter.widget-view+json": {
       "model_id": "6ff97e4955254542b83f0475423c352d",
       "version_major": 2,
       "version_minor": 0
      },
      "text/plain": [
       "VBox()"
      ]
     },
     "metadata": {},
     "output_type": "display_data"
    },
    {
     "data": {
      "application/vnd.jupyter.widget-view+json": {
       "model_id": "",
       "version_major": 2,
       "version_minor": 0
      },
      "text/plain": [
       "FloatProgress(value=0.0, bar_style='info', description='Progress:', layout=Layout(height='25px', width='50%'),…"
      ]
     },
     "metadata": {},
     "output_type": "display_data"
    }
   ],
   "source": [
    "# create post dummy\n",
    "air = air.withColumn(\"post\", (col(\"time_to_raid\") >= 0).cast(IntegerType()))\n",
    "air = air.withColumn(\"post_inter\", col(\"time_to_raid\") * col(\"distance_to_front_log\"))"
   ]
  },
  {
   "cell_type": "code",
   "execution_count": 97,
   "id": "a3b76daa-f875-40c7-bb01-8afc6cfa2848",
   "metadata": {
    "execution": {
     "iopub.execute_input": "2022-11-24T20:15:46.648565Z",
     "iopub.status.busy": "2022-11-24T20:15:46.648344Z",
     "iopub.status.idle": "2022-11-24T20:15:46.902032Z",
     "shell.execute_reply": "2022-11-24T20:15:46.901402Z",
     "shell.execute_reply.started": "2022-11-24T20:15:46.648541Z"
    },
    "tags": []
   },
   "outputs": [
    {
     "data": {
      "application/vnd.jupyter.widget-view+json": {
       "model_id": "4e18f2a4b43b4d328c51fc0f9f6a66dd",
       "version_major": 2,
       "version_minor": 0
      },
      "text/plain": [
       "VBox()"
      ]
     },
     "metadata": {},
     "output_type": "display_data"
    },
    {
     "data": {
      "application/vnd.jupyter.widget-view+json": {
       "model_id": "",
       "version_major": 2,
       "version_minor": 0
      },
      "text/plain": [
       "FloatProgress(value=0.0, bar_style='info', description='Progress:', layout=Layout(height='25px', width='50%'),…"
      ]
     },
     "metadata": {},
     "output_type": "display_data"
    }
   ],
   "source": [
    "# create dummy interactions\n",
    "inter_var = \"distance_to_front\"\n",
    "x_columns = [col for col in air.columns if \"TYPE\" in col] # dummies\n",
    "types_expr = [F.col(xcol) * F.col(inter_var) for xcol in x_columns]\n",
    "air = air.select([col for col in air.columns] + [*types_expr])"
   ]
  },
  {
   "cell_type": "code",
   "execution_count": 98,
   "id": "c3ea20cb-e8fd-4a7b-9878-6abe1db653e4",
   "metadata": {
    "execution": {
     "iopub.execute_input": "2022-11-24T20:15:49.460196Z",
     "iopub.status.busy": "2022-11-24T20:15:49.459969Z",
     "iopub.status.idle": "2022-11-24T20:15:49.708905Z",
     "shell.execute_reply": "2022-11-24T20:15:49.708400Z",
     "shell.execute_reply.started": "2022-11-24T20:15:49.460172Z"
    },
    "tags": []
   },
   "outputs": [
    {
     "data": {
      "application/vnd.jupyter.widget-view+json": {
       "model_id": "4aad999017904ae69789c9b0861318f4",
       "version_major": 2,
       "version_minor": 0
      },
      "text/plain": [
       "VBox()"
      ]
     },
     "metadata": {},
     "output_type": "display_data"
    },
    {
     "data": {
      "application/vnd.jupyter.widget-view+json": {
       "model_id": "",
       "version_major": 2,
       "version_minor": 0
      },
      "text/plain": [
       "FloatProgress(value=0.0, bar_style='info', description='Progress:', layout=Layout(height='25px', width='50%'),…"
      ]
     },
     "metadata": {},
     "output_type": "display_data"
    }
   ],
   "source": [
    "x_columns = [col for col in air.columns if \"TYPE\" in col] + [inter_var] # dummies\n",
    "#x_columns = [\"post\", \"post_inter\", \"distance_to_front_log\"]"
   ]
  },
  {
   "cell_type": "code",
   "execution_count": 99,
   "id": "1cf1b426-a1cd-4490-a915-c63e7104c210",
   "metadata": {
    "execution": {
     "iopub.execute_input": "2022-11-24T20:15:49.996372Z",
     "iopub.status.busy": "2022-11-24T20:15:49.996148Z",
     "iopub.status.idle": "2022-11-24T20:16:09.312488Z",
     "shell.execute_reply": "2022-11-24T20:16:09.311892Z",
     "shell.execute_reply.started": "2022-11-24T20:15:49.996348Z"
    },
    "tags": []
   },
   "outputs": [
    {
     "data": {
      "application/vnd.jupyter.widget-view+json": {
       "model_id": "2b0c4758c5384f5ea34da2624c008f3e",
       "version_major": 2,
       "version_minor": 0
      },
      "text/plain": [
       "VBox()"
      ]
     },
     "metadata": {},
     "output_type": "display_data"
    },
    {
     "data": {
      "application/vnd.jupyter.widget-view+json": {
       "model_id": "",
       "version_major": 2,
       "version_minor": 0
      },
      "text/plain": [
       "FloatProgress(value=0.0, bar_style='info', description='Progress:', layout=Layout(height='25px', width='50%'),…"
      ]
     },
     "metadata": {},
     "output_type": "display_data"
    }
   ],
   "source": [
    "runEventStudies(\"estimates_interaction_filtered\", x_columns)"
   ]
  }
 ],
 "metadata": {
  "kernelspec": {
   "display_name": "base",
   "language": "python",
   "name": "python3"
  },
  "language_info": {
   "codemirror_mode": {
    "name": "python",
    "version": 3
   },
   "mimetype": "text/x-python",
   "name": "python",
   "pygments_lexer": "python3",
   "version": "3.9.15"
  }
 },
 "nbformat": 4,
 "nbformat_minor": 5
}
